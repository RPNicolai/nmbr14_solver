{
 "cells": [
  {
   "cell_type": "code",
   "execution_count": 4,
   "metadata": {},
   "outputs": [],
   "source": [
    "from collections import deque\n",
    "from copy import deepcopy\n",
    "from itertools import combinations "
   ]
  },
  {
   "cell_type": "markdown",
   "metadata": {},
   "source": [
    "Let's define a list for the solutions"
   ]
  },
  {
   "cell_type": "code",
   "execution_count": 1,
   "metadata": {},
   "outputs": [],
   "source": [
    "prevs = {}\n",
    "solutions = []"
   ]
  },
  {
   "cell_type": "markdown",
   "metadata": {},
   "source": [
    "Let's define a state."
   ]
  },
  {
   "cell_type": "code",
   "execution_count": 6,
   "metadata": {},
   "outputs": [],
   "source": [
    "class State:\n",
    "    target = 0\n",
    "    numbers = [0,0,0,0,0,0]\n",
    "    operations = []\n",
    "\n",
    "    def save_solution(self):\n",
    "        global solutions\n",
    "        solutions = solutions + [self.operations]\n",
    "\n",
    "    def __init__(self, vals, target, operations):\n",
    "        self.numbers = vals\n",
    "        self.numbers.sort()\n",
    "        self.target = target\n",
    "        self.operations = operations\n",
    "\n",
    "    def next_states(self):\n",
    "        result = set({})\n",
    "        options = combinations(self.numbers, 2)\n",
    "        for opt in options:\n",
    "            nums = deepcopy(self.numbers)\n",
    "            nums.remove(opt[0])\n",
    "            nums.remove(opt[1])\n",
    "\n",
    "            s1 = State(nums + [int(opt[0]+opt[1])], self.target, self.operations + [str(opt[0])+'+'+str(opt[1])])\n",
    "            if opt[0] - opt[1] > 0:\n",
    "                s2 = State(nums + [int(opt[0]-opt[1])], self.target, self.operations + [str(opt[0])+'-'+str(opt[1])])\n",
    "            else:\n",
    "                s2 = None\n",
    "            s3 = State(nums + [int(opt[0]*opt[1])], self.target, self.operations + [str(opt[0])+'*'+str(opt[1])])\n",
    "            if opt[1] != 0 and opt[0]%opt[1] == 0:\n",
    "                s4 = State(nums + [int(opt[0]/opt[1])], self.target, self.operations + [str(opt[0])+'/'+str(opt[1])])\n",
    "            else:\n",
    "                s4 = None\n",
    "            \n",
    "            if self.target in s1.numbers:\n",
    "                s1.save_solution()\n",
    "            elif len(s1.numbers)>1:\n",
    "                result = result.union(set({s1}))\n",
    "\n",
    "            if s2:\n",
    "                if self.target in s2.numbers:\n",
    "                    s2.save_solution()\n",
    "                elif len(s2.numbers)>1:\n",
    "                    result = result.union(set({s2}))\n",
    "\n",
    "            if self.target in s3.numbers:\n",
    "                s3.save_solution()\n",
    "            elif len(s3.numbers)>1:\n",
    "                result = result.union(set({s3}))\n",
    "\n",
    "            if s4:\n",
    "                if self.target in s4.numbers:\n",
    "                    s4.save_solution()\n",
    "                elif len(s4.numbers)>1:\n",
    "                    result = result.union(set({s4}))\n",
    "\n",
    "        for r in result:\n",
    "            prevs[r] = self\n",
    "        return result"
   ]
  },
  {
   "cell_type": "code",
   "execution_count": 7,
   "metadata": {},
   "outputs": [],
   "source": [
    "start = State([1,5,6,2,50,25], 813, [])\n",
    "\n",
    "all_states = set({start})\n",
    "\n",
    "while len(all_states) > 0:\n",
    "    c_s = list(all_states).pop()\n",
    "    all_states.remove(c_s)\n",
    "    next = c_s.next_states()\n",
    "    all_states = all_states.union(set(next))\n"
   ]
  },
  {
   "cell_type": "markdown",
   "metadata": {},
   "source": [
    "Print the solutions"
   ]
  },
  {
   "cell_type": "code",
   "execution_count": 8,
   "metadata": {},
   "outputs": [
    {
     "name": "stdout",
     "output_type": "stream",
     "text": [
      "5 813 ['1+50', '5*25', '2+125', '6*127', '51+762']\n",
      "5 813 ['5*25', '2+125', '6*127', '50+762', '1+812']\n",
      "5 813 ['5*25', '2+125', '6*127', '1+762', '50+763']\n",
      "5 813 ['5*25', '2+125', '6*127', '1+50', '51+762']\n",
      "5 813 ['5*25', '1+50', '2+125', '6*127', '51+762']\n",
      "5 813 ['5*25', '2+125', '1+50', '6*127', '51+762']\n"
     ]
    }
   ],
   "source": [
    "for s in solutions:\n",
    "    print(len(s), start.target, s)"
   ]
  }
 ],
 "metadata": {
  "interpreter": {
   "hash": "98fb52d79eaafd5623d4d36a2158b0828666e35d5cf6898ad5c071afb6c45700"
  },
  "kernelspec": {
   "display_name": "Python 3.8.13 ('number14')",
   "language": "python",
   "name": "python3"
  },
  "language_info": {
   "codemirror_mode": {
    "name": "ipython",
    "version": 3
   },
   "file_extension": ".py",
   "mimetype": "text/x-python",
   "name": "python",
   "nbconvert_exporter": "python",
   "pygments_lexer": "ipython3",
   "version": "3.8.13"
  },
  "orig_nbformat": 4
 },
 "nbformat": 4,
 "nbformat_minor": 2
}
