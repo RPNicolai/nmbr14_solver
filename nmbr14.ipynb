{
 "cells": [
  {
   "cell_type": "code",
   "execution_count": 2,
   "metadata": {},
   "outputs": [],
   "source": [
    "from collections import deque\n",
    "from copy import deepcopy\n",
    "from itertools import combinations "
   ]
  },
  {
   "cell_type": "markdown",
   "metadata": {},
   "source": [
    "Let's define a list for the solutions"
   ]
  },
  {
   "cell_type": "code",
   "execution_count": 1,
   "metadata": {},
   "outputs": [],
   "source": [
    "prevs = {}\n",
    "solutions = []"
   ]
  },
  {
   "cell_type": "markdown",
   "metadata": {},
   "source": [
    "Let's define a state."
   ]
  },
  {
   "cell_type": "code",
   "execution_count": 3,
   "metadata": {},
   "outputs": [],
   "source": [
    "class State:\n",
    "    target = 0\n",
    "    numbers = [0,0,0,0,0,0]\n",
    "    operation_count = 0\n",
    "\n",
    "    def save_solution(self, f, s):\n",
    "        global solutions\n",
    "        r = []\n",
    "        r = r + [f.numbers]\n",
    "        r = r + [s.numbers]\n",
    "        p = prevs[s]\n",
    "        while p:\n",
    "            r = r + [p.numbers]\n",
    "            if p in prevs:\n",
    "                p = prevs[p]\n",
    "            else:\n",
    "                p = None\n",
    "        solutions = solutions + [r]\n",
    "\n",
    "    def __init__(self, vals, target, operation_count):\n",
    "        self.numbers = vals\n",
    "        self.numbers.sort()\n",
    "        self.target = target\n",
    "        self.operation_count = operation_count\n",
    "\n",
    "    def next_states(self):\n",
    "        result = set({})\n",
    "        options = combinations(self.numbers, 2)\n",
    "        for opt in options:\n",
    "            nums = deepcopy(self.numbers)\n",
    "            nums.remove(opt[0])\n",
    "            nums.remove(opt[1])\n",
    "\n",
    "            s1 = State(nums + [int(opt[0]+opt[1])], self.target, self.operation_count + 1)\n",
    "            s2 = State(nums + [int(opt[0]-opt[1])], self.target, self.operation_count + 1)\n",
    "            s3 = State(nums + [int(opt[0]*opt[1])], self.target, self.operation_count + 1)\n",
    "            if opt[1] != 0 and opt[0]%opt[1] == 0:\n",
    "                s4 = State(nums + [int(opt[0]/opt[1])], self.target, self.operation_count + 1)\n",
    "            else:\n",
    "                s4 = None\n",
    "            \n",
    "            if len(s1.numbers)==1:\n",
    "                if s1.numbers[0] == self.target:\n",
    "                    self.save_solution(s1,self)\n",
    "            else:\n",
    "                result = result.union(set({s1}))\n",
    "\n",
    "            if len(s2.numbers)==1:\n",
    "                if s2.numbers[0] == self.target:\n",
    "                    self.save_solution(s2,self)\n",
    "            else:\n",
    "                result = result.union(set({s2}))\n",
    "\n",
    "            if len(s3.numbers)==1:\n",
    "                if s3.numbers[0] == self.target:\n",
    "                    self.save_solution(s3,self)\n",
    "            else:\n",
    "                result = result.union(set({s3}))\n",
    "\n",
    "            if s4:\n",
    "                if len(s4.numbers)==1:\n",
    "                    if s4.numbers[0] == self.target:\n",
    "                        self.save_solution(s4,self)\n",
    "                else:\n",
    "                    result = result.union(set({s4}))\n",
    "\n",
    "        for r in result:\n",
    "            prevs[r] = self\n",
    "        return result\n",
    "\n"
   ]
  },
  {
   "cell_type": "code",
   "execution_count": 4,
   "metadata": {},
   "outputs": [],
   "source": [
    "start = State([1,5,6,2,50,25], 813, 0)\n",
    "\n",
    "all_states = set({start})\n",
    "\n",
    "while len(all_states) > 0:\n",
    "    c_s = list(all_states).pop()\n",
    "    all_states.remove(c_s)\n",
    "    next = c_s.next_states()\n",
    "    all_states = all_states.union(set(next))\n"
   ]
  },
  {
   "cell_type": "markdown",
   "metadata": {},
   "source": [
    "Print the solutions"
   ]
  },
  {
   "cell_type": "code",
   "execution_count": 5,
   "metadata": {},
   "outputs": [
    {
     "name": "stdout",
     "output_type": "stream",
     "text": [
      "5 [[813], [51, 762], [6, 51, 127], [2, 6, 51, 125], [2, 5, 6, 25, 51], [1, 2, 5, 6, 25, 50]]\n",
      "5 [[813], [51, 762], [6, 51, 127], [2, 6, 51, 125], [1, 2, 6, 50, 125], [1, 2, 5, 6, 25, 50]]\n",
      "5 [[813], [1, 812], [1, 50, 762], [1, 6, 50, 127], [1, 2, 6, 50, 125], [1, 2, 5, 6, 25, 50]]\n",
      "5 [[813], [50, 763], [1, 50, 762], [1, 6, 50, 127], [1, 2, 6, 50, 125], [1, 2, 5, 6, 25, 50]]\n",
      "5 [[813], [51, 762], [1, 50, 762], [1, 6, 50, 127], [1, 2, 6, 50, 125], [1, 2, 5, 6, 25, 50]]\n",
      "5 [[813], [51, 762], [6, 51, 127], [1, 6, 50, 127], [1, 2, 6, 50, 125], [1, 2, 5, 6, 25, 50]]\n"
     ]
    }
   ],
   "source": [
    "\n",
    "for s in solutions:\n",
    "    print(len(s)-1, s)\n"
   ]
  },
  {
   "cell_type": "code",
   "execution_count": null,
   "metadata": {},
   "outputs": [],
   "source": []
  }
 ],
 "metadata": {
  "interpreter": {
   "hash": "66357a483d5d827c1181db2241c481b47937c53011c179208f075155bcb2a77a"
  },
  "kernelspec": {
   "display_name": "Python 3.8.13 ('number14')",
   "language": "python",
   "name": "python3"
  },
  "language_info": {
   "codemirror_mode": {
    "name": "ipython",
    "version": 3
   },
   "file_extension": ".py",
   "mimetype": "text/x-python",
   "name": "python",
   "nbconvert_exporter": "python",
   "pygments_lexer": "ipython3",
   "version": "3.8.13"
  },
  "orig_nbformat": 4
 },
 "nbformat": 4,
 "nbformat_minor": 2
}
